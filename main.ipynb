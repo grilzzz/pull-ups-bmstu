{
 "cells": [
  {
   "cell_type": "code",
   "execution_count": 9,
   "id": "61a35efa-0ece-45bb-a1b4-2025296c2fe2",
   "metadata": {
    "tags": []
   },
   "outputs": [],
   "source": [
    "import cv2\n",
    "import mediapipe as mp\n",
    "import numpy as np\n",
    "import pandas as pd\n",
    "import os\n",
    "from pathlib import Path\n",
    "from math import acos, degrees"
   ]
  },
  {
   "cell_type": "code",
   "execution_count": 10,
   "id": "7c9519f6-3aec-4863-b870-c1c6f50b0cea",
   "metadata": {},
   "outputs": [],
   "source": [
    "folder = 'data/'\n",
    "\n",
    "cap = cv2.VideoCapture('data/video1.mp4')\n",
    "\n",
    "# cap1 = cv2.VideoCapture('video_dataset\\\\dataset\\\\train\\\\Tadasana\\\\video1.mp4')\n",
    "while True:\n",
    "    success, img = cap.read()\n",
    "    if not success:\n",
    "        break\n",
    "    cv2.imshow(\"video\", img)\n",
    "    if cv2.waitKey(1) == ord('q'):\n",
    "        break\n",
    "cap.release()\n",
    "cv2.destroyAllWindows()"
   ]
  },
  {
   "cell_type": "code",
   "execution_count": 11,
   "id": "b964d10a-0e47-453b-8ea7-d7e12cc1a357",
   "metadata": {
    "tags": []
   },
   "outputs": [
    {
     "name": "stdout",
     "output_type": "stream",
     "text": [
      "data\\2023-05-15 08-50-17.MP4\n",
      "data\\2023-05-15 09-14-20.MP4\n",
      "data\\2023-05-15 11-17-32.MP4\n",
      "data\\2023-06-06 12-32-06.MP4\n",
      "data\\2023-06-06 12-35-43.MP4\n"
     ]
    }
   ],
   "source": [
    "videos = []\n",
    "directory_path = Path('data')\n",
    "for file_path in directory_path.glob('*'):\n",
    "    print(file_path)\n",
    "    videos.append(str(file_path))"
   ]
  },
  {
   "cell_type": "code",
   "execution_count": 12,
   "id": "bfb1c386-54a8-4fb1-ae5e-4036b5eb448c",
   "metadata": {
    "tags": []
   },
   "outputs": [],
   "source": [
    "def get_angle(dot1, dot2, dot3):\n",
    "    if not (dot1 and dot2 and dot3):\n",
    "        return 0\n",
    "    a = (dot2.x - dot1.x, dot2.y - dot1.y, dot2.z - dot1.z)\n",
    "    b = (dot2.x - dot3.x, dot2.y - dot3.y, dot2.z - dot3.z)\n",
    "    skalar_mul = a[0] * b[0] + a[1] * b[1]\n",
    "    norm_mul = ((a[0] ** 2 + a[1] ** 2) * (b[0] ** 2 + b[1] ** 2)) ** 0.5\n",
    "    return degrees(acos(skalar_mul / norm_mul))"
   ]
  },
  {
   "cell_type": "code",
   "execution_count": 13,
   "id": "3e4701b4-4310-4a54-a4c3-ff5192a8fde0",
   "metadata": {
    "tags": []
   },
   "outputs": [],
   "source": [
    "def save_frame(path, img):\n",
    "    cv2.imwrite(path, img)\n",
    "    print(f\"Кадр сохранен в {path}\")"
   ]
  },
  {
   "cell_type": "code",
   "execution_count": 15,
   "id": "35cb0546-027b-4061-a03f-931a75c1b58a",
   "metadata": {},
   "outputs": [],
   "source": [
    "def draw_on_video(video, display_size, speed):\n",
    "    print(video)\n",
    "    cap = cv2.VideoCapture(video)\n",
    "    mp_drawing = mp.solutions.drawing_utils\n",
    "    mp_pose = mp.solutions.pose\n",
    "    frame_width = int(cap.get(cv2.CAP_PROP_FRAME_WIDTH))\n",
    "    frame_height = int(cap.get(cv2.CAP_PROP_FRAME_HEIGHT))\n",
    "    a = max(frame_width, frame_height) // display_size    \n",
    "    output_size = (frame_width // a, frame_height // a)\n",
    "    n_frame = 0\n",
    "    with mp_pose.Pose(min_detection_confidence=0.5, min_tracking_confidence=0.5) as pose:\n",
    "        while True:\n",
    "            n_frame += 1\n",
    "            success, frame = cap.read()\n",
    "            if  n_frame % speed != 0:\n",
    "                continue\n",
    "            if cv2.waitKey(1) == ord('q'):\n",
    "                break\n",
    "            if not success:\n",
    "                break\n",
    "                    \n",
    "            resized_frame = cv2.resize(frame, output_size, interpolation=cv2.INTER_AREA)\n",
    "                \n",
    "            image = cv2.cvtColor(resized_frame, cv2.COLOR_BGR2RGB)\n",
    "            image.flags.writeable = False\n",
    "      \n",
    "            # Make detection\n",
    "            results = pose.process(image)\n",
    "            # Recolor back to BGR\n",
    "            image.flags.writeable = True\n",
    "            image = cv2.cvtColor(image, cv2.COLOR_RGB2BGR)\n",
    "            # Render detections\n",
    "            if results.pose_landmarks:\n",
    "                \n",
    "                # mp_drawing.draw_landmarks(image, results.pose_landmarks, mp_pose.POSE_CONNECTIONS,\n",
    "                #                         mp_drawing.DrawingSpec(color=(245,117,66), thickness=2, circle_radius=2), \n",
    "                #                         mp_drawing.DrawingSpec(color=(245,66,230), thickness=2, circle_radius=2) \n",
    "                #                          )\n",
    "                left_angle = get_angle(results.pose_landmarks.landmark[23], \n",
    "                                       results.pose_landmarks.landmark[25], \n",
    "                                       results.pose_landmarks.landmark[27])\n",
    "                    \n",
    "                right_angle = get_angle(results.pose_landmarks.landmark[24], \n",
    "                                        results.pose_landmarks.landmark[26], \n",
    "                                        results.pose_landmarks.landmark[28])\n",
    "\n",
    "                if left_angle > 160 and right_angle > 160:\n",
    "                    # cv2.putText(image, 'good', (50, 50), cv2.FONT_HERSHEY_SIMPLEX, 1, (0, 255, 0), 2, cv2.LINE_AA)\n",
    "                    save_frame(f'legs_pics/straight/pic{n_frame}.jpg', image)\n",
    "                elif left_angle < 120 or right_angle < 120:\n",
    "                    # cv2.putText(image, 'bad', (50, 50), cv2.FONT_HERSHEY_SIMPLEX, 1, (0, 0, 255), 2, cv2.LINE_AA)\n",
    "                    save_frame(f'legs_pics/bent/pic{n_frame}.jpg', image)\n",
    "                # else:\n",
    "                    # cv2.putText(image, 'medium', (50, 50), cv2.FONT_HERSHEY_SIMPLEX, 1, (0, 255, 255), 2, cv2.LINE_AA)\n",
    "            \n",
    "                # cv2.putText(image, \n",
    "                #             str(left_angle), \n",
    "                #             (int(results.pose_landmarks.landmark[25].x * output_size[0]), int(results.pose_landmarks.landmark[25].y * output_size[1])), \n",
    "                #             cv2.FONT_HERSHEY_SIMPLEX, 1, (255, 0, 0), 2, cv2.LINE_AA)\n",
    "                \n",
    "                # cv2.putText(image, \n",
    "                #             str(left_angle), \n",
    "                #             (int(results.pose_landmarks.landmark[26].x * output_size[0]), int(results.pose_landmarks.landmark[26].y * output_size[1])), \n",
    "                #             cv2.FONT_HERSHEY_SIMPLEX, 1, (255, 0, 0), 2, cv2.LINE_AA)\n",
    "                \n",
    "            cv2.imshow(\"video\", image)\n",
    "        cap.release()\n",
    "        cv2.destroyAllWindows()"
   ]
  },
  {
   "cell_type": "code",
   "execution_count": null,
   "id": "7c297399-c731-44c4-ad69-c26bcab996cc",
   "metadata": {
    "tags": []
   },
   "outputs": [
    {
     "name": "stdout",
     "output_type": "stream",
     "text": [
      "data\\2023-05-15 08-50-17.MP4\n",
      "Кадр сохранен в legs_pics/straight/pic50.jpg\n",
      "Кадр сохранен в legs_pics/straight/pic100.jpg\n",
      "Кадр сохранен в legs_pics/straight/pic150.jpg\n",
      "Кадр сохранен в legs_pics/straight/pic200.jpg\n",
      "Кадр сохранен в legs_pics/straight/pic250.jpg\n",
      "Кадр сохранен в legs_pics/straight/pic300.jpg\n",
      "Кадр сохранен в legs_pics/straight/pic350.jpg\n",
      "Кадр сохранен в legs_pics/straight/pic500.jpg\n",
      "Кадр сохранен в legs_pics/straight/pic550.jpg\n",
      "Кадр сохранен в legs_pics/straight/pic600.jpg\n",
      "Кадр сохранен в legs_pics/straight/pic650.jpg\n",
      "Кадр сохранен в legs_pics/straight/pic750.jpg\n",
      "Кадр сохранен в legs_pics/straight/pic800.jpg\n",
      "Кадр сохранен в legs_pics/straight/pic850.jpg\n",
      "Кадр сохранен в legs_pics/straight/pic900.jpg\n",
      "Кадр сохранен в legs_pics/straight/pic950.jpg\n",
      "Кадр сохранен в legs_pics/straight/pic1100.jpg\n",
      "Кадр сохранен в legs_pics/straight/pic1150.jpg\n",
      "Кадр сохранен в legs_pics/straight/pic1200.jpg\n",
      "Кадр сохранен в legs_pics/straight/pic1250.jpg\n",
      "Кадр сохранен в legs_pics/straight/pic1300.jpg\n",
      "Кадр сохранен в legs_pics/straight/pic1350.jpg\n",
      "Кадр сохранен в legs_pics/straight/pic1400.jpg\n",
      "Кадр сохранен в legs_pics/straight/pic1450.jpg\n",
      "Кадр сохранен в legs_pics/straight/pic1500.jpg\n",
      "Кадр сохранен в legs_pics/straight/pic1550.jpg\n",
      "Кадр сохранен в legs_pics/straight/pic1600.jpg\n",
      "Кадр сохранен в legs_pics/straight/pic1650.jpg\n",
      "Кадр сохранен в legs_pics/straight/pic1700.jpg\n",
      "Кадр сохранен в legs_pics/straight/pic1800.jpg\n",
      "Кадр сохранен в legs_pics/straight/pic1850.jpg\n",
      "Кадр сохранен в legs_pics/straight/pic1900.jpg\n",
      "Кадр сохранен в legs_pics/straight/pic2300.jpg\n",
      "Кадр сохранен в legs_pics/straight/pic2350.jpg\n",
      "Кадр сохранен в legs_pics/straight/pic2400.jpg\n",
      "Кадр сохранен в legs_pics/straight/pic2450.jpg\n",
      "Кадр сохранен в legs_pics/straight/pic2500.jpg\n",
      "Кадр сохранен в legs_pics/straight/pic2550.jpg\n",
      "Кадр сохранен в legs_pics/straight/pic2600.jpg\n",
      "Кадр сохранен в legs_pics/straight/pic2650.jpg\n",
      "Кадр сохранен в legs_pics/straight/pic2700.jpg\n",
      "Кадр сохранен в legs_pics/straight/pic2750.jpg\n",
      "Кадр сохранен в legs_pics/straight/pic2800.jpg\n",
      "Кадр сохранен в legs_pics/straight/pic2850.jpg\n",
      "Кадр сохранен в legs_pics/straight/pic2900.jpg\n",
      "Кадр сохранен в legs_pics/straight/pic2950.jpg\n",
      "Кадр сохранен в legs_pics/straight/pic3000.jpg\n",
      "Кадр сохранен в legs_pics/straight/pic3050.jpg\n",
      "data\\2023-05-15 09-14-20.MP4\n",
      "Кадр сохранен в legs_pics/straight/pic350.jpg\n",
      "Кадр сохранен в legs_pics/straight/pic500.jpg\n",
      "Кадр сохранен в legs_pics/bent/pic900.jpg\n",
      "data\\2023-05-15 11-17-32.MP4\n",
      "Кадр сохранен в legs_pics/straight/pic50.jpg\n",
      "Кадр сохранен в legs_pics/straight/pic100.jpg\n",
      "Кадр сохранен в legs_pics/straight/pic150.jpg\n",
      "Кадр сохранен в legs_pics/straight/pic200.jpg\n",
      "Кадр сохранен в legs_pics/bent/pic300.jpg\n",
      "Кадр сохранен в legs_pics/bent/pic350.jpg\n",
      "Кадр сохранен в legs_pics/straight/pic550.jpg\n",
      "Кадр сохранен в legs_pics/straight/pic600.jpg\n"
     ]
    }
   ],
   "source": [
    "display_size = 600\n",
    "speed = 50\n",
    "\n",
    "for video in videos:\n",
    "    draw_on_video(video, display_size, speed)"
   ]
  },
  {
   "cell_type": "code",
   "execution_count": null,
   "id": "bf6a4317-2fac-40c9-a175-c30295870425",
   "metadata": {},
   "outputs": [],
   "source": [
    "import cv2\n",
    "\n",
    "# Открытие исходного видео\n",
    "input_video = 'input_video.mp4'\n",
    "cap = cv2.VideoCapture(input_video)\n",
    "\n",
    "# Получение свойств исходного видео\n",
    "frame_width = int(cap.get(cv2.CAP_PROP_FRAME_WIDTH))\n",
    "frame_height = int(cap.get(cv2.CAP_PROP_FRAME_HEIGHT))\n",
    "fps = int(cap.get(cv2.CAP_PROP_FPS))\n",
    "output_size = (frame_width // 2, frame_height // 2)  # Уменьшение размера в 2 раза\n",
    "\n",
    "# Создание объекта для записи нового видео\n",
    "output_video = 'output_video.mp4'\n",
    "fourcc = cv2.VideoWriter_fourcc(*'mp4v')\n",
    "out = cv2.VideoWriter(output_video, fourcc, fps, output_size)\n",
    "\n",
    "while True:\n",
    "    ret, frame = cap.read()\n",
    "    if not ret:\n",
    "        break\n",
    "\n",
    "    # Изменение размера кадра\n",
    "    resized_frame = cv2.resize(frame, output_size, interpolation=cv2.INTER_AREA)\n",
    "\n",
    "    # Запись измененного кадра в новый файл\n",
    "    out.write(resized_frame)\n",
    "\n",
    "# Освобождение ресурсов\n",
    "cap.release()\n",
    "out.release()\n",
    "cv2.destroyAllWindows()\n"
   ]
  }
 ],
 "metadata": {
  "kernelspec": {
   "display_name": "Python 3 (ipykernel)",
   "language": "python",
   "name": "python3"
  },
  "language_info": {
   "codemirror_mode": {
    "name": "ipython",
    "version": 3
   },
   "file_extension": ".py",
   "mimetype": "text/x-python",
   "name": "python",
   "nbconvert_exporter": "python",
   "pygments_lexer": "ipython3",
   "version": "3.11.5"
  }
 },
 "nbformat": 4,
 "nbformat_minor": 5
}
