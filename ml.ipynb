{
 "cells": [
  {
   "cell_type": "code",
   "execution_count": 38,
   "id": "48555895-53ee-472f-a385-0193d08ed850",
   "metadata": {
    "tags": []
   },
   "outputs": [],
   "source": [
    "import cv2\n",
    "import mediapipe as mp\n",
    "import numpy as np\n",
    "import pandas as pd\n",
    "import os\n",
    "from pathlib import Path\n",
    "from math import acos, degrees"
   ]
  },
  {
   "cell_type": "code",
   "execution_count": 39,
   "id": "1d4540c8-4e94-4f69-ab9b-2bb099496fee",
   "metadata": {
    "tags": []
   },
   "outputs": [],
   "source": [
    "def get_angle(dot1, dot2, dot3):\n",
    "    if not (dot1 and dot2 and dot3):\n",
    "        return 0\n",
    "    a = (dot2.x - dot1.x, dot2.y - dot1.y, dot2.z - dot1.z)\n",
    "    b = (dot2.x - dot3.x, dot2.y - dot3.y, dot2.z - dot3.z)\n",
    "    skalar_mul = a[0] * b[0] + a[1] * b[1]\n",
    "    norm_mul = ((a[0] ** 2 + a[1] ** 2) * (b[0] ** 2 + b[1] ** 2)) ** 0.5\n",
    "    return degrees(acos(skalar_mul / norm_mul))"
   ]
  },
  {
   "cell_type": "code",
   "execution_count": 40,
   "id": "c6009d7f-e110-4f26-8b38-376b9b858c29",
   "metadata": {
    "tags": []
   },
   "outputs": [],
   "source": [
    "mp_pose = mp.solutions.pose\n",
    "pose = mp_pose.Pose(static_image_mode=True, min_detection_confidence=0.5)\n",
    "\n",
    "def get_data_from_file(path, value, df):\n",
    "    img = cv2.imread(path)\n",
    "    img_rgb = cv2.cvtColor(img, cv2.COLOR_BGR2RGB)\n",
    "    results = pose.process(img_rgb)\n",
    "    if results.pose_landmarks:\n",
    "        landmarks = {'image_path': str(file_path)}\n",
    "        \n",
    "        for i, landmark in enumerate(results.pose_landmarks.landmark):\n",
    "            landmarks[f'x_{i}'] = landmark.x\n",
    "            landmarks[f'y_{i}'] = landmark.y\n",
    "            landmarks[f'z_{i}'] = landmark.z\n",
    "            landmarks[f'visibility_{i}'] = landmark.visibility\n",
    "        \n",
    "        landmarks['left_knee_angle'] = get_angle(results.pose_landmarks.landmark[23], \n",
    "                                                 results.pose_landmarks.landmark[25], \n",
    "                                                 results.pose_landmarks.landmark[27])\n",
    "                    \n",
    "        landmarks['right_knee_angle'] = get_angle(results.pose_landmarks.landmark[24], \n",
    "                                                  results.pose_landmarks.landmark[26], \n",
    "                                                  results.pose_landmarks.landmark[28])\n",
    "        \n",
    "        landmarks['label'] = value\n",
    "        \n",
    "        df = df._append(landmarks, ignore_index=True)\n",
    "    return df"
   ]
  },
  {
   "cell_type": "code",
   "execution_count": 41,
   "id": "eec2d7d2-817b-417f-b1e2-d46555a4b964",
   "metadata": {
    "tags": []
   },
   "outputs": [],
   "source": [
    "classes = {\n",
    "    'bent': 0,\n",
    "    'straight': 1\n",
    "}\n",
    "\n",
    "root = 'legs_pics/'\n",
    "\n",
    "df = pd.DataFrame()\n",
    "for key, value in classes.items():\n",
    "    path = Path(root + key)\n",
    "    for file_path in path.glob('*'):\n",
    "        df = get_data_from_file(str(file_path), value, df)"
   ]
  },
  {
   "cell_type": "code",
   "execution_count": 42,
   "id": "814f45ad-2f44-42a7-86da-b9860459330f",
   "metadata": {
    "tags": []
   },
   "outputs": [],
   "source": [
    "X = np.array(df.iloc[:, 1:-1])\n",
    "y = np.array(df.iloc[:, -1])"
   ]
  },
  {
   "cell_type": "code",
   "execution_count": 43,
   "id": "3023100b-1a79-4cd5-9517-8d1cf381ddce",
   "metadata": {
    "tags": []
   },
   "outputs": [],
   "source": [
    "from sklearn.model_selection import train_test_split\n",
    "\n",
    "X_train, X_test, y_train, y_test = train_test_split(X, y, test_size=0.1, random_state=42, shuffle=True)"
   ]
  },
  {
   "cell_type": "code",
   "execution_count": 44,
   "id": "40fe45e2-ff54-4997-82de-2dc78f03f328",
   "metadata": {
    "tags": []
   },
   "outputs": [
    {
     "name": "stdout",
     "output_type": "stream",
     "text": [
      "test accuracy: 1.0\n",
      "train accuracy: 1.0\n"
     ]
    }
   ],
   "source": [
    "from sklearn.linear_model import LogisticRegression\n",
    "from sklearn.metrics import accuracy_score\n",
    "\n",
    "clf = LogisticRegression(random_state=42, max_iter=500).fit(X_train, y_train)\n",
    "\n",
    "y_test_pred = clf.predict(X_test)\n",
    "y_train_pred = clf.predict(X_train)\n",
    "\n",
    "print(f'test accuracy: {accuracy_score(y_test, y_test_pred)}\\ntrain accuracy: {accuracy_score(y_train, y_train_pred)}')"
   ]
  },
  {
   "cell_type": "code",
   "execution_count": null,
   "id": "6f19bb9d-4d25-4a2a-ae44-0fd69d28e0b7",
   "metadata": {},
   "outputs": [],
   "source": []
  }
 ],
 "metadata": {
  "kernelspec": {
   "display_name": "Python 3 (ipykernel)",
   "language": "python",
   "name": "python3"
  },
  "language_info": {
   "codemirror_mode": {
    "name": "ipython",
    "version": 3
   },
   "file_extension": ".py",
   "mimetype": "text/x-python",
   "name": "python",
   "nbconvert_exporter": "python",
   "pygments_lexer": "ipython3",
   "version": "3.11.5"
  }
 },
 "nbformat": 4,
 "nbformat_minor": 5
}
